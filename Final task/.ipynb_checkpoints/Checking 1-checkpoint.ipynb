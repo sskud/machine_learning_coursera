{
 "cells": [
  {
   "cell_type": "code",
   "execution_count": 1,
   "metadata": {
    "collapsed": true
   },
   "outputs": [],
   "source": [
    "import numpy as np\n",
    "import pandas as pd\n",
    "import time\n",
    "import datetime\n",
    "import csv\n",
    "from sklearn.metrics import *\n",
    "from sklearn.cross_validation import *\n",
    "from sklearn.ensemble import GradientBoostingClassifier\n",
    "from sklearn.preprocessing import StandardScaler\n",
    "from sklearn.linear_model import LogisticRegression\n",
    "from sklearn.grid_search import GridSearchCV\n",
    "\n",
    "# Load features from CSV\n",
    "features = pd.read_csv('./features.csv', index_col='match_id')\n",
    "\n",
    "# Exclude features related to match result\n",
    "features.drop(['duration', 'tower_status_radiant', 'tower_status_dire', \n",
    "               'barracks_status_radiant', 'barracks_status_dire'], axis=1, inplace=True)\n",
    "\n",
    "# Total objects number\n",
    "total_rows = features.shape[0]\n",
    "\n",
    "# Target variable column\n",
    "target_var_column = 'radiant_win'\n",
    "\n",
    "# Initiate Standard Scaler\n",
    "scaler = StandardScaler()\n"
   ]
  },
  {
   "cell_type": "code",
   "execution_count": 3,
   "metadata": {
    "collapsed": false
   },
   "outputs": [
    {
     "name": "stdout",
     "output_type": "stream",
     "text": [
      "match_id\n",
      "0         1\n",
      "1         1\n",
      "2         0\n",
      "3         0\n",
      "4         0\n",
      "5         0\n",
      "8         0\n",
      "9         1\n",
      "11        0\n",
      "12        0\n",
      "14        1\n",
      "15        0\n",
      "17        1\n",
      "20        1\n",
      "21        0\n",
      "22        1\n",
      "23        1\n",
      "25        1\n",
      "26        1\n",
      "27        1\n",
      "28        1\n",
      "29        1\n",
      "30        1\n",
      "31        1\n",
      "32        1\n",
      "34        1\n",
      "35        0\n",
      "36        0\n",
      "38        0\n",
      "39        0\n",
      "         ..\n",
      "114373    0\n",
      "114374    0\n",
      "114375    0\n",
      "114376    0\n",
      "114379    1\n",
      "114380    0\n",
      "114381    0\n",
      "114382    0\n",
      "114383    1\n",
      "114384    1\n",
      "114385    0\n",
      "114386    1\n",
      "114387    1\n",
      "114388    1\n",
      "114389    1\n",
      "114390    0\n",
      "114391    0\n",
      "114392    1\n",
      "114394    0\n",
      "114395    1\n",
      "114396    1\n",
      "114397    1\n",
      "114399    0\n",
      "114400    1\n",
      "114401    1\n",
      "114402    0\n",
      "114403    1\n",
      "114404    0\n",
      "114405    0\n",
      "114406    1\n",
      "Name: radiant_win, dtype: int64\n"
     ]
    }
   ],
   "source": [
    "print features['radiant_win']"
   ]
  },
  {
   "cell_type": "code",
   "execution_count": null,
   "metadata": {
    "collapsed": true
   },
   "outputs": [],
   "source": []
  }
 ],
 "metadata": {
  "kernelspec": {
   "display_name": "Python 2",
   "language": "python",
   "name": "python2"
  },
  "language_info": {
   "codemirror_mode": {
    "name": "ipython",
    "version": 2
   },
   "file_extension": ".py",
   "mimetype": "text/x-python",
   "name": "python",
   "nbconvert_exporter": "python",
   "pygments_lexer": "ipython2",
   "version": "2.7.11"
  }
 },
 "nbformat": 4,
 "nbformat_minor": 0
}
