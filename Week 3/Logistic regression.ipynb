{
 "cells": [
  {
   "cell_type": "code",
   "execution_count": 2,
   "metadata": {
    "collapsed": false
   },
   "outputs": [],
   "source": [
    "import pandas\n",
    "import numpy as np\n",
    "from sklearn.metrics import roc_auc_score\n",
    "from scipy.spatial import distance\n",
    "\n",
    "def split(data):\n",
    "    X = data.iloc[:,1:].values\n",
    "    y = data.iloc[:,0].values\n",
    "    return X, y\n",
    "\n",
    "def sigmoid(X, w):\n",
    "    return 1 / (1 + np.exp(-np.dot(X, w)))\n",
    "\n",
    "def cost(X, y, w, C):\n",
    "    sum = 0\n",
    "    n = X.shape[0]\n",
    "    m = X.shape[1]\n",
    "    for i in xrange(n):\n",
    "        sum += np.log(1 + np.exp(-y[i] * np.dot(X[i], w)))\n",
    "    reg = C * (w ** 2).sum() / m\n",
    "    cost = sum / np.double(n) + reg\n",
    "    return cost\n",
    "\n",
    "def train(X, y, k, C):\n",
    "    n = X.shape[0]\n",
    "    m = X.shape[1]\n",
    "    w = np.zeros(m)\n",
    "    c = cost(X, y, w, C)\n",
    "    threshold = 1e-5\n",
    "    for iteration in xrange(10000):\n",
    "        new_w = np.zeros(m)\n",
    "        for j in xrange(m):\n",
    "            sum = 0\n",
    "            for i in xrange(n):\n",
    "                sum += y[i] * X[i, j] * (1 - 1 / (1 + np.exp(-y[i] * np.dot(X[i], w))))\n",
    "            new_w[j] = w[j] + k * sum / np.double(n) - k * C * w[j]\n",
    "        new_cost = cost(X, y, new_w, C)\n",
    "        if distance.euclidean(w, new_w) <= threshold:\n",
    "            return new_w\n",
    "        c = new_cost\n",
    "        w = new_w\n",
    "    return w\n",
    "\n",
    "data = pandas.read_csv('data-logistic.csv', header=None)\n",
    "X, y = split(data)\n",
    "k = 0.1\n",
    "score = roc_auc_score(y, sigmoid(X, train(X, y, k, C = 0)))\n",
    "score_reg = roc_auc_score(y, sigmoid(X, train(X, y, k, C = 10)))\n",
    "\n",
    "with open(\"q2.txt\", \"w\") as output:\n",
    "    output.write('%.3f %.3f' % (score, score_reg))"
   ]
  },
  {
   "cell_type": "code",
   "execution_count": null,
   "metadata": {
    "collapsed": true
   },
   "outputs": [],
   "source": []
  },
  {
   "cell_type": "code",
   "execution_count": null,
   "metadata": {
    "collapsed": true
   },
   "outputs": [],
   "source": []
  },
  {
   "cell_type": "code",
   "execution_count": null,
   "metadata": {
    "collapsed": true
   },
   "outputs": [],
   "source": []
  }
 ],
 "metadata": {
  "kernelspec": {
   "display_name": "Python 2",
   "language": "python",
   "name": "python2"
  },
  "language_info": {
   "codemirror_mode": {
    "name": "ipython",
    "version": 2
   },
   "file_extension": ".py",
   "mimetype": "text/x-python",
   "name": "python",
   "nbconvert_exporter": "python",
   "pygments_lexer": "ipython2",
   "version": "2.7.11"
  }
 },
 "nbformat": 4,
 "nbformat_minor": 0
}
