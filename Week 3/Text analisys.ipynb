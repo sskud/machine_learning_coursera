{
 "cells": [
  {
   "cell_type": "code",
   "execution_count": 4,
   "metadata": {
    "collapsed": false
   },
   "outputs": [],
   "source": [
    "import pandas as ps\n",
    "import numpy as np\n",
    "from sklearn import datasets\n",
    "from sklearn.feature_extraction.text import TfidfVectorizer\n",
    "from sklearn.svm import SVC\n",
    "from sklearn.cross_validation import KFold\n",
    "from sklearn.grid_search import GridSearchCV\n",
    "\n",
    "newsgroups = datasets.fetch_20newsgroups(\n",
    "                    subset='all', \n",
    "                    categories=['alt.atheism', 'sci.space']\n",
    "             )\n",
    "\n",
    "tf_idf = TfidfVectorizer()\n",
    "\n",
    "X = tf_idf.fit_transform(newsgroups.data)\n",
    "y = newsgroups.target\n",
    "\n",
    "grid = {'C': np.power(10.0, np.arange(-5, 5))}\n",
    "cv = KFold(y.size, n_folds=5, shuffle=True, random_state=241)\n",
    "clf = SVC(kernel='linear', random_state=241)\n",
    "gs = GridSearchCV(clf, grid, scoring='accuracy', cv=cv)\n",
    "gs.fit(X, y)\n",
    "\n",
    "best_score = 0\n",
    "best_C = None\n",
    "for a in gs.grid_scores_:\n",
    "    if a.mean_validation_score > best_score:\n",
    "        best_score = a.mean_validation_score\n",
    "        best_C = a.parameters['C']\n",
    "\n",
    "clf.set_params(C = best_C)\n",
    "clf.fit(X, y)\n",
    "\n",
    "ind = np.argsort(np.absolute(np.asarray(clf.coef_.todense())).reshape(-1))[-10:]\n",
    "\n",
    "words = [tf_idf.get_feature_names()[i] for i in ind]\n",
    "\n",
    "with open(\"q1.txt\", \"w\") as output:\n",
    "    output.write('%s' % (\" \".join(sorted(words))))\n"
   ]
  },
  {
   "cell_type": "code",
   "execution_count": null,
   "metadata": {
    "collapsed": false
   },
   "outputs": [],
   "source": []
  }
 ],
 "metadata": {
  "kernelspec": {
   "display_name": "Python 2",
   "language": "python",
   "name": "python2"
  },
  "language_info": {
   "codemirror_mode": {
    "name": "ipython",
    "version": 2
   },
   "file_extension": ".py",
   "mimetype": "text/x-python",
   "name": "python",
   "nbconvert_exporter": "python",
   "pygments_lexer": "ipython2",
   "version": "2.7.11"
  }
 },
 "nbformat": 4,
 "nbformat_minor": 0
}
