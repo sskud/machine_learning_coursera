{
 "cells": [
  {
   "cell_type": "code",
   "execution_count": 7,
   "metadata": {
    "collapsed": false
   },
   "outputs": [
    {
     "data": {
      "text/plain": [
       "50"
      ]
     },
     "execution_count": 7,
     "metadata": {},
     "output_type": "execute_result"
    }
   ],
   "source": [
    "import numpy as np\n",
    "from pandas import read_csv\n",
    "from sklearn.ensemble import RandomForestRegressor\n",
    "from sklearn.metrics import r2_score\n",
    "from sklearn.cross_validation import KFold\n",
    "from sklearn.cross_validation import cross_val_score\n",
    "\n",
    "data = read_csv('abalone.csv')\n",
    "data['Sex'] = data['Sex'].map(lambda x: 1 if x == 'M' else (-1 if x == 'F' else 0))\n",
    "\n",
    "X = data.iloc[:,:-1].values\n",
    "y = data.iloc[:,-1].values\n",
    "\n",
    "kf = KFold(len(y), n_folds=5, shuffle=True, random_state=1) #генерация разбиений\n",
    "\n",
    "for x in range(1, 51):\n",
    "    clf = RandomForestRegressor(n_estimators=x, random_state=1)\n",
    "    clf.fit(X, y)\n",
    "    predictions = clf.predict(X)\n",
    "    score = np.mean(cross_val_score(clf, X, y, cv=kf, scoring='r2'))\n",
    "    if (score > 0.52):\n",
    "        min_tree = x\n",
    "    \n",
    "min_tree"
   ]
  },
  {
   "cell_type": "code",
   "execution_count": null,
   "metadata": {
    "collapsed": true
   },
   "outputs": [],
   "source": [
    "import numpy as np\n",
    "from pandas import read_csv\n",
    "from sklearn.ensemble import RandomForestRegressor\n",
    "from sklearn.metrics import r2_score\n",
    "from sklearn.cross_validation import KFold\n",
    "from sklearn.cross_validation import cross_val_score\n",
    "\n",
    "data = read_csv('abalone.csv')\n",
    "data['Sex'] = data['Sex'].map(lambda x: 1 if x == 'M' else (-1 if x == 'F' else 0))\n",
    "\n",
    "y = data.iloc[:,-1]\n",
    "X = data.iloc[:,:-1]\n",
    "\n",
    "def calculate(X, y, threshold):\n",
    "    best_t, best_score = 0, -float('inf')\n",
    "    kf = KFold(len(y), n_folds=5, random_state=1, shuffle=True)\n",
    "    for t in xrange(1, 51):\n",
    "        clf = RandomForestRegressor(n_estimators=t, random_state=1)\n",
    "        score = np.mean(cross_val_score(clf, X, y, cv=kf, scoring='r2'))\n",
    "        if score > threshold:\n",
    "            return t\n",
    "\n",
    "result = calculate(X, y, 0.52)\n",
    "\n",
    "with open(\"q1.txt\", \"w\") as output:\n",
    "    output.write('%d' % (result))"
   ]
  }
 ],
 "metadata": {
  "kernelspec": {
   "display_name": "Python 2",
   "language": "python",
   "name": "python2"
  },
  "language_info": {
   "codemirror_mode": {
    "name": "ipython",
    "version": 2
   },
   "file_extension": ".py",
   "mimetype": "text/x-python",
   "name": "python",
   "nbconvert_exporter": "python",
   "pygments_lexer": "ipython2",
   "version": "2.7.11"
  }
 },
 "nbformat": 4,
 "nbformat_minor": 0
}
