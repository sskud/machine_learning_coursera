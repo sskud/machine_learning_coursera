{
 "cells": [
  {
   "cell_type": "code",
   "execution_count": 1,
   "metadata": {
    "collapsed": true
   },
   "outputs": [],
   "source": [
    "import pandas\n",
    "import numpy as np\n",
    "import sklearn.metrics\n",
    "\n",
    "data = pandas.read_csv('classification.csv')\n",
    "\n",
    "t = data[data['true'] == data['pred']]['pred']\n",
    "tp = t.sum()\n",
    "tn = t.size - tp\n",
    "\n",
    "f = data[data['true'] != data['pred']]['pred']\n",
    "fp = f.sum()\n",
    "fn = f.size - fp\n",
    "\n",
    "with open(\"q1.txt\", \"w\") as output:\n",
    "    output.write('%d %d %d %d' % (tp, fp, fn, tn))\n",
    "\n",
    "accuracy = sklearn.metrics.accuracy_score(data['true'], data['pred'])\n",
    "precision = sklearn.metrics.precision_score(data['true'], data['pred'])\n",
    "recall = sklearn.metrics.recall_score(data['true'], data['pred'])\n",
    "F = sklearn.metrics.f1_score(data['true'], data['pred'])\n",
    "\n",
    "with open(\"q2.txt\", \"w\") as output:\n",
    "    output.write('%.2f %.2f %.2f %.2f' % (accuracy, precision, recall, F))\n",
    "\n",
    "scores = pandas.read_csv('scores.csv')\n",
    "\n",
    "algs = scores.columns[1:]\n",
    "def find_best_alg(score_func):\n",
    "    s = algs.map(lambda alg: [score_func(alg), alg])\n",
    "\n",
    "    return np.sort(s)[::-1][0]\n",
    "\n",
    "best_roc, best_roc_alg = find_best_alg(lambda alg:\n",
    "    sklearn.metrics.roc_auc_score(scores['true'], scores[alg]))\n",
    "\n",
    "with open(\"q3.txt\", \"w\") as output:\n",
    "    output.write('%s' % (best_roc_alg))\n",
    "\n",
    "def best_prc_score(alg):\n",
    "    prc = sklearn.metrics.precision_recall_curve(scores['true'], scores[alg])\n",
    "    fr = pandas.DataFrame({ 'precision': prc[0], 'recall': prc[1] })\n",
    "    return fr[fr['recall'] >= 0.7]['precision'].max()\n",
    "\n",
    "best_prc, best_prc_alg = find_best_alg(best_prc_score)\n",
    "\n",
    "with open(\"q4.txt\", \"w\") as output:\n",
    "    output.write('%s' % (best_prc_alg))"
   ]
  },
  {
   "cell_type": "code",
   "execution_count": null,
   "metadata": {
    "collapsed": true
   },
   "outputs": [],
   "source": []
  }
 ],
 "metadata": {
  "kernelspec": {
   "display_name": "Python 2",
   "language": "python",
   "name": "python2"
  },
  "language_info": {
   "codemirror_mode": {
    "name": "ipython",
    "version": 2
   },
   "file_extension": ".py",
   "mimetype": "text/x-python",
   "name": "python",
   "nbconvert_exporter": "python",
   "pygments_lexer": "ipython2",
   "version": "2.7.11"
  }
 },
 "nbformat": 4,
 "nbformat_minor": 0
}
